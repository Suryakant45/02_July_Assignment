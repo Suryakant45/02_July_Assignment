{
 "cells": [
  {
   "cell_type": "markdown",
   "id": "02820d9f",
   "metadata": {},
   "source": [
    "Q-1] Explain what inheritance is in object-oriented programming and why it is used."
   ]
  },
  {
   "cell_type": "markdown",
   "id": "db3b85db",
   "metadata": {},
   "source": [
    "Ans:- In object-oriented programming (OOP), inheritance is a fundamental concept that allows one class to inherit properties and behaviers(i.e, attributes and method) from another class. The class that inherits from another is called the \"Subclass \" or \"derived class \" while the class from which it inherits is called the \"superclass\" or \"baseclass\"    \n",
    "    Inheritance is represented by an \"is-a\" relationship, meaning that a subclass is a specialized version of the superclass. it allows the subclass to reuse and extend the functionality of the superclass, promoting code reusability and maintainability.\n"
   ]
  },
  {
   "cell_type": "markdown",
   "id": "482422c3",
   "metadata": {},
   "source": [
    "Q-2] Discuss the concept of single inheritance and multiple inheritance, highlighting their differences and advantages."
   ]
  },
  {
   "cell_type": "markdown",
   "id": "119fd62a",
   "metadata": {},
   "source": [
    "Ans:- 1) Single Inheritance :- Single inheritance is a type of inheritance where a class can inherit from only one base class. In other words, a derived class can have only one direct ancestor. This creates a linear class hierarchy. In languages that support single inheritance, a class can extend only one other class."
   ]
  },
  {
   "cell_type": "code",
   "execution_count": 2,
   "id": "1090e861",
   "metadata": {},
   "outputs": [],
   "source": [
    "#Example\n",
    "class Animal:\n",
    "    def speak(self):\n",
    "        print(\"Animal speaks\")\n",
    "class Dog(Animal):\n",
    "    def bark(self):\n",
    "        print(\"Dag barks\")\n",
    "# The Dog class inherits from the 'Animal' class using single inheritance."
   ]
  },
  {
   "cell_type": "markdown",
   "id": "9b41b7bf",
   "metadata": {},
   "source": [
    "Advantages of Single Inheritance \n",
    "Simplicity: Single inheritance is straightforward and easier to understand compared to multiple inheritance, as it follows a linear and simple class hierarchy.   \n",
    "Avoiding Ambiguity : Single inheritance help avoid ambigulty issues that might arise in multiple inheritance, where methods or attributes    \n",
    "Easy Maintanance: With a single chain of inheritance, it's easier to debug and maintain the codebase.\n",
    "\n"
   ]
  },
  {
   "cell_type": "markdown",
   "id": "bd2b6166",
   "metadata": {},
   "source": [
    "Multiple inheritance: allows a class to inherit from more than one superclass. In this scenario, a subclass can have multiple immediate parent classes. When a class inherits from multiple superclasses, it can access the attributes and methods of all its parent classes.   \n",
    "Advantages :     \n",
    "Code Reusebility : Multiple inheritance facilitates reusing code from multiple sources, which can lead to more efficient and compact codebase.     \n",
    "Difference between single and multiple Inheritance:  \n",
    "Single Inheritence : A class can inherit from only one superclass.   \n",
    "Multiple Inheritence : A class can inherit from multiple superclasses."
   ]
  },
  {
   "cell_type": "markdown",
   "id": "e8eca6ec",
   "metadata": {},
   "source": [
    "Q-3] Explain the term \"base class\" and \"derived class\" in the context of inheritance."
   ]
  },
  {
   "cell_type": "markdown",
   "id": "3fa2219e",
   "metadata": {},
   "source": [
    "Ans:-Inheritance is a fundamental concept that allows one class to inherit properties and behaviers from \"base class\" and \"derived class\" refer to the relationship between two classes.    \n",
    "Base class: A base class also known as a superclass or parent class, is the class that provides the common properties, attributes and methods that are shared by one or more other classes. It serves as a blueprint for creating derived classes. The base class encapsulates the common functionalities, making it reusable and promoting code organization.         \n",
    "Derived class : A derived class, also known as a subclass or child class, is a class that inherits the properties and behaviors from the base class. It can extend the functionality of the base class by adding its own attributes and methods or overriding the ones inherited from base class. The derived class can access the members (atributes and methods) of the base class, which promotes code reuse and specialization. "
   ]
  },
  {
   "cell_type": "code",
   "execution_count": 1,
   "id": "4b8ea69a",
   "metadata": {},
   "outputs": [],
   "source": [
    "class Animal:\n",
    "    def __init__(self,name,species):\n",
    "        self.name=name\n",
    "        self.species=species\n",
    "    def make_sound(self):\n",
    "        pass\n",
    "class Dog(Animal):\n",
    "    def make(self):\n",
    "        return \"Woof!\"\n",
    "class Cat(Animal):\n",
    "    def Make_sound(self):\n",
    "        return \"Meow\""
   ]
  },
  {
   "cell_type": "markdown",
   "id": "23de1b48",
   "metadata": {},
   "source": [
    "Q-4] What is the significance of the \"Protected\" access modifier in Inheritance ? How does it differ from \"private\" and \"public\" modifiers?"
   ]
  },
  {
   "cell_type": "markdown",
   "id": "4a496ef8",
   "metadata": {},
   "source": [
    "Ans:-Protected access modifiers allow the data members to be accessed by class, package , subclass (same package) , The differnce between public and protected is that public can be accessed from outside class but protected cannot be accessed from outside class.     \n",
    "Private members cannot be accessed  from the child class of outside package. Protected members can be accessed from the child class of the outside package."
   ]
  },
  {
   "cell_type": "markdown",
   "id": "52e88bd7",
   "metadata": {},
   "source": [
    "Q-5] What is the purpose of the \"super\" keyword in inheritance? Provide an example."
   ]
  },
  {
   "cell_type": "markdown",
   "id": "cdd523e1",
   "metadata": {},
   "source": [
    "Ans:- The 'super' keyword is used to call a method or constructor from the parent class (also known as the super class or base class). It allows a subclass to access and invoke the functionalities defined in its immediate parent class. This is particularly useful when you want to override a method in the subclass but still need to use some parts of the parent class's implementation."
   ]
  },
  {
   "cell_type": "code",
   "execution_count": 1,
   "id": "bd6435b1",
   "metadata": {},
   "outputs": [],
   "source": [
    "class Animal:\n",
    "    def __init__(self,name):\n",
    "        self.name=name\n",
    "    def make_sound(self):\n",
    "        print(\"Some generic animal sound\")\n",
    "class Dog(Animal):\n",
    "    def __init__(self,name,breed):\n",
    "        # call the constructor\n",
    "        super().__init__(name)\n",
    "        self.breed=breed\n",
    "    def make_sound(self):\n",
    "        # call the make_sound method\n",
    "        super().make_sound()\n",
    "        print(\"WOOF1!\")"
   ]
  },
  {
   "cell_type": "code",
   "execution_count": 2,
   "id": "85bbe9d8",
   "metadata": {},
   "outputs": [],
   "source": [
    "m_dog=Dog(\"Buddy\",\"Golden Retriver\")"
   ]
  },
  {
   "cell_type": "code",
   "execution_count": 3,
   "id": "d6e39856",
   "metadata": {},
   "outputs": [
    {
     "name": "stdout",
     "output_type": "stream",
     "text": [
      "Some generic animal sound\n",
      "WOOF1!\n"
     ]
    }
   ],
   "source": [
    "m_dog.make_sound()"
   ]
  },
  {
   "cell_type": "markdown",
   "id": "4d3da165",
   "metadata": {},
   "source": [
    "Q-6] Create a base class called \"Vehicle\" with attributes like \"Make\" ,\"Model\" and \"year\" Then create a derived class called \"Car\" that inherits from \"Vehicle\" and adds an attributes called \"Fuel_type\". Implement appropriate method in both classes."
   ]
  },
  {
   "cell_type": "code",
   "execution_count": 24,
   "id": "b713310e",
   "metadata": {},
   "outputs": [],
   "source": [
    "#Ans:-\n",
    "class Vehicle:\n",
    "    def __init__(self,make,model,year):\n",
    "        self.make=make\n",
    "        self.model=model\n",
    "        self.year=year\n",
    "    def start_engine(self):\n",
    "        pass\n"
   ]
  },
  {
   "cell_type": "code",
   "execution_count": 25,
   "id": "b766f22a",
   "metadata": {},
   "outputs": [],
   "source": [
    "class Car(Vehicle):\n",
    "    def __init__(self,make,model,year,fuel_type):\n",
    "        super().__init__(make,model,year)\n",
    "        self.fuel_type=fuel_type\n",
    "    def start_engine(self):\n",
    "        print(f\"The {self.make} of model is {self.model} year is {self.year} and fuel type is {self.fuel_type}\")\n",
    "    "
   ]
  },
  {
   "cell_type": "code",
   "execution_count": 26,
   "id": "98133bdd",
   "metadata": {},
   "outputs": [],
   "source": [
    "car1=Car(\"Innova\",\"EV\",2021,\"Petrol\")"
   ]
  },
  {
   "cell_type": "code",
   "execution_count": 27,
   "id": "53434517",
   "metadata": {},
   "outputs": [
    {
     "name": "stdout",
     "output_type": "stream",
     "text": [
      "The Innova of model is EV year is 2021 and fuel type is Petrol\n"
     ]
    }
   ],
   "source": [
    "car1.start_engine()"
   ]
  },
  {
   "cell_type": "markdown",
   "id": "f982c673",
   "metadata": {},
   "source": [
    "Q-7] Create a base class called \"Employee\" with attributes like \"Name\" and \"Salary\" Derived two classes \"Manager \" and \"Developer\" from Employee. Add an additional attributes called \"department\" for the \"Manager\" class and \"programming_language\" for the \"Developer\" class."
   ]
  },
  {
   "cell_type": "code",
   "execution_count": 28,
   "id": "7c4d435b",
   "metadata": {},
   "outputs": [],
   "source": [
    "#Ans:-\n",
    "class Employee:\n",
    "    def __init__(self,name,salary):\n",
    "        self.name=name\n",
    "        self.salary=salary\n",
    "    "
   ]
  },
  {
   "cell_type": "code",
   "execution_count": 29,
   "id": "dab36e68",
   "metadata": {},
   "outputs": [],
   "source": [
    "class Manager(Employee):\n",
    "    def __init__(self,name,salary,department):\n",
    "        super().__init__(name,salary)\n",
    "        self.department=department\n",
    "        \n",
    "    "
   ]
  },
  {
   "cell_type": "code",
   "execution_count": 30,
   "id": "4df31ab4",
   "metadata": {},
   "outputs": [],
   "source": [
    "class Developer(Employee):\n",
    "    def __init__(self,name,salary,programming_language):\n",
    "        super().__init__(name,salary)\n",
    "        self.programming_language=programming_language\n",
    "        "
   ]
  },
  {
   "cell_type": "markdown",
   "id": "479cb609",
   "metadata": {},
   "source": [
    "Q-8] Design a base class called \"shape\" with attributes like \"colour\" and \"border_width\". create derived classes, \"Rectangle\" and \"circle\" that inherits from \"shape\" and add specific attributes like \"length\" and \"width\" for the \"Rectangle\" class and \"radius\" for the \"Circle\" class."
   ]
  },
  {
   "cell_type": "code",
   "execution_count": 31,
   "id": "230a94b0",
   "metadata": {},
   "outputs": [],
   "source": [
    "# Ans:-\n",
    "class Shape:\n",
    "    def __init__(self,colour,border_width):\n",
    "        self.colour=colour\n",
    "        self.border_width=border_width\n",
    "        "
   ]
  },
  {
   "cell_type": "code",
   "execution_count": 32,
   "id": "4c94677e",
   "metadata": {},
   "outputs": [],
   "source": [
    "class Rectangle(Shape):\n",
    "    def __init__(self,colour,border_width,length,width):\n",
    "        super().__init__(colour,border_width)\n",
    "        self.length=length\n",
    "        self.width=width\n",
    "        "
   ]
  },
  {
   "cell_type": "code",
   "execution_count": 33,
   "id": "3706be54",
   "metadata": {},
   "outputs": [],
   "source": [
    "class Circle(Shape):\n",
    "    def __init__(self,colour,border_width,radius):\n",
    "        super().__init__(colour,border_width)\n",
    "        self.radius=radius\n",
    "    "
   ]
  },
  {
   "cell_type": "markdown",
   "id": "9d089c40",
   "metadata": {},
   "source": [
    "Q-9] Create a base class called \"Device\" with attributes like \"brand\" and \"model\" . Derive two classes. \"Phone\" and \"Tablet\" from Device. Add specific attributes like \"screen_size\" for the \"Phone\" class and \"battery_capacity\" for the tablet class."
   ]
  },
  {
   "cell_type": "code",
   "execution_count": 34,
   "id": "7184672c",
   "metadata": {},
   "outputs": [],
   "source": [
    "# Ans:-\n",
    "class Device:\n",
    "    def __init__(self,brand,model):\n",
    "        self.brand=brand\n",
    "        self.model=model\n",
    "        "
   ]
  },
  {
   "cell_type": "code",
   "execution_count": 35,
   "id": "ae7c0356",
   "metadata": {},
   "outputs": [],
   "source": [
    "class Phone(Device):\n",
    "    def __init__(self,brand,model,screen_size):\n",
    "        super().__init__(brand,model)\n",
    "        self.screen_size=screen_size\n",
    "        "
   ]
  },
  {
   "cell_type": "code",
   "execution_count": 36,
   "id": "88f2e7dd",
   "metadata": {},
   "outputs": [],
   "source": [
    "class Tablet(Device):\n",
    "    def __init__(self,brand,model,battery_capacity):\n",
    "        super().__init__(brand,model)\n",
    "        self.battery_capacity=battery_capacity\n",
    "        "
   ]
  },
  {
   "cell_type": "markdown",
   "id": "3007631c",
   "metadata": {},
   "source": [
    "Q-10] Create a base class called \"BankAccount\" with attributes like \"account_number\" and \"balance\" . Derive  two classes \"SavingAccount\" and \"checkingAccount\", from \"BankAccount\" Add specific methods like \"calculate_interest\" for the \"SavingAccount\" class and \"deduct_fees\" for the \"CheckingAccount\" class."
   ]
  },
  {
   "cell_type": "code",
   "execution_count": 37,
   "id": "14f507ec",
   "metadata": {},
   "outputs": [],
   "source": [
    "# Ans:-\n",
    "class BankAccount:\n",
    "    def __init__(self,account_number,balance):\n",
    "        self.account_number=account_number\n",
    "        self.balance=balance\n",
    "    "
   ]
  },
  {
   "cell_type": "code",
   "execution_count": 38,
   "id": "26cfd3d2",
   "metadata": {},
   "outputs": [],
   "source": [
    "class SavingAccount(BankAccount):\n",
    "    def __init__(self,account_number,balance,calculate_interest):\n",
    "        super().__init__(account_number,balance)\n",
    "        self.calculate_interest=calculate_interest\n",
    "    def calculate_interest(self):\n",
    "        print(f\"Account number of {self.account_number} interest calculated {self.calculate_interest} and balance is {self.balance}\")"
   ]
  },
  {
   "cell_type": "code",
   "execution_count": 39,
   "id": "ce09fcf3",
   "metadata": {},
   "outputs": [],
   "source": [
    "class CheckingAccount(BankAccount):\n",
    "    def __init__(self,account_number,balance,deduct_fees):\n",
    "        super().__init__(account_number,balance)\n",
    "        self.deduct_fees=deduct_fees\n",
    "    def deduct_fees(self):\n",
    "        print(f\"Account number is {self.account_number} balance is {self.balance} deducted fees of {self.deduct_fees}\")"
   ]
  },
  {
   "cell_type": "code",
   "execution_count": 40,
   "id": "a928e146",
   "metadata": {},
   "outputs": [],
   "source": [
    "Saving=SavingAccount(\"150811010004865\",20500,530)"
   ]
  },
  {
   "cell_type": "code",
   "execution_count": 46,
   "id": "a2c61e4d",
   "metadata": {},
   "outputs": [
    {
     "data": {
      "text/plain": [
       "'530'"
      ]
     },
     "execution_count": 46,
     "metadata": {},
     "output_type": "execute_result"
    }
   ],
   "source": [
    "Saving.calculate_interest"
   ]
  },
  {
   "cell_type": "code",
   "execution_count": 43,
   "id": "1f1bcc76",
   "metadata": {},
   "outputs": [],
   "source": [
    "Checking=CheckingAccount(\"150811010004865\",20500,270)"
   ]
  },
  {
   "cell_type": "code",
   "execution_count": 45,
   "id": "0faa4e75",
   "metadata": {},
   "outputs": [
    {
     "data": {
      "text/plain": [
       "270"
      ]
     },
     "execution_count": 45,
     "metadata": {},
     "output_type": "execute_result"
    }
   ],
   "source": [
    "Checking.deduct_fees"
   ]
  },
  {
   "cell_type": "code",
   "execution_count": null,
   "id": "d6be76e4",
   "metadata": {},
   "outputs": [],
   "source": []
  }
 ],
 "metadata": {
  "kernelspec": {
   "display_name": "Python 3 (ipykernel)",
   "language": "python",
   "name": "python3"
  },
  "language_info": {
   "codemirror_mode": {
    "name": "ipython",
    "version": 3
   },
   "file_extension": ".py",
   "mimetype": "text/x-python",
   "name": "python",
   "nbconvert_exporter": "python",
   "pygments_lexer": "ipython3",
   "version": "3.11.5"
  }
 },
 "nbformat": 4,
 "nbformat_minor": 5
}
